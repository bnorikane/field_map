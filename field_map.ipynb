{
 "cells": [
  {
   "cell_type": "markdown",
   "id": "409e595d",
   "metadata": {},
   "source": [
    "# Base map for BCDP Field information\n",
    "\n",
    "Base Folium map for BCDP Field map applications\n",
    "like precinct maps or Caucus Supersite maps.\n",
    "\n",
    "- County, CD, SD, HD, precinct District boundaries\n",
    "- Choropleth map layers to show data distribution like # of Dems, turnout, votes\n",
    "- Layer control to show/hide layers\n",
    "\n",
    "## Create base Folium map\n",
    "\n",
    "- basemap layer\n",
    "  - Cartodb positron\n",
    "  - center in Boulder County\n",
    "  - zoom to show all Boulder County\n",
    "- add layer control\n",
    "\n",
    "## Add District Boundary layers\n",
    "\n",
    "- geojson feature layers\n",
    "  - Boulder precincts\n",
    "  - Boulder County\n",
    "  - CD\n",
    "  - SD\n",
    "- add styling\n",
    "- add popups\n",
    "- add tooltips\n",
    "\n",
    "## Add data layers"
   ]
  },
  {
   "cell_type": "code",
   "execution_count": null,
   "id": "0283d57a",
   "metadata": {},
   "outputs": [],
   "source": [
    "import folium"
   ]
  },
  {
   "cell_type": "code",
   "execution_count": null,
   "id": "c18d26b9",
   "metadata": {},
   "outputs": [],
   "source": [
    "# Create basemap layer that shows Boulder County\n",
    "\n",
    "m = folium.Map(tiles='cartodb positron', location=(40.1, -105.3), zoom_level=10)"
   ]
  },
  {
   "cell_type": "code",
   "execution_count": null,
   "id": "af22d1c2",
   "metadata": {},
   "outputs": [],
   "source": [
    "m"
   ]
  },
  {
   "cell_type": "code",
   "execution_count": null,
   "id": "dd1d271e",
   "metadata": {},
   "outputs": [],
   "source": []
  }
 ],
 "metadata": {
  "kernelspec": {
   "display_name": "geojupy",
   "language": "python",
   "name": "python3"
  },
  "language_info": {
   "codemirror_mode": {
    "name": "ipython",
    "version": 3
   },
   "file_extension": ".py",
   "mimetype": "text/x-python",
   "name": "python",
   "nbconvert_exporter": "python",
   "pygments_lexer": "ipython3",
   "version": "3.12.5"
  }
 },
 "nbformat": 4,
 "nbformat_minor": 5
}
